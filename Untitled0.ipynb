{
 "cells": [
  {
   "cell_type": "markdown",
   "metadata": {
    "id": "atxz_fE_BhXy"
   },
   "source": [
    "# Imports"
   ]
  },
  {
   "cell_type": "code",
   "execution_count": 1,
   "metadata": {
    "executionInfo": {
     "elapsed": 6,
     "status": "ok",
     "timestamp": 1724818175211,
     "user": {
      "displayName": "Nabindra Shrestha",
      "userId": "01740359431384572488"
     },
     "user_tz": -345
    },
    "id": "Vf0oGnycw2Ub"
   },
   "outputs": [],
   "source": [
    "import os\n",
    "import paho.mqtt.client as mqtt\n",
    "import json\n",
    "\n",
    "import pandas as pd\n",
    "import numpy as np\n",
    "import math\n",
    "import datetime\n",
    "import matplotlib.pyplot as plt # Visualization\n",
    "import matplotlib.dates as mdates # Formatting dates\n",
    "import seaborn as sns # Visualization\n",
    "from sklearn.preprocessing import MinMaxScaler\n",
    "import torch # Library for implementing Deep Neural Network\n",
    "import torch.nn as nn\n",
    "import torch.nn.functional as F\n",
    "import torch.optim as optim\n",
    "from torch.utils.data import Dataset, DataLoader"
   ]
  },
  {
   "cell_type": "code",
   "execution_count": 7,
   "metadata": {
    "executionInfo": {
     "elapsed": 6,
     "status": "ok",
     "timestamp": 1724818175211,
     "user": {
      "displayName": "Nabindra Shrestha",
      "userId": "01740359431384572488"
     },
     "user_tz": -345
    },
    "id": "nrq0t9p9DRRQ"
   },
   "outputs": [],
   "source": [
    "dataset_PATH = r\"C:\\Users\\nabin\\OneDrive\\Desktop\\AI Gridview\\[0] Datasets\\Biotech_preprocessed_dataset_with_outliers.csv\"\n",
    "original_df = pd.read_csv(dataset_PATH)\n",
    "original_df = original_df[['Hour', 'Day', 'Total (W)']]"
   ]
  },
  {
   "cell_type": "markdown",
   "metadata": {},
   "source": [
    "<h1><b>MQTT Authentication and Setup<b></h1>"
   ]
  },
  {
   "cell_type": "code",
   "execution_count": null,
   "metadata": {},
   "outputs": [],
   "source": [
    "broker_address = \"mqtt.iammeter.com\"  # MQTT broker address\n",
    "broker_port = 1883  # Default MQTT port\n",
    "username = \"karuna\"\n",
    "password = \"232794\"\n",
    "\n",
    "BIOTECH = 1\n",
    "\n",
    "# Topics to subscribe to, for each meter\n",
    "Topic = {BIOTECH: \"device/57DB095D/realtime\"}"
   ]
  },
  {
   "cell_type": "markdown",
   "metadata": {
    "id": "JeViUxleIVXG"
   },
   "source": [
    "# **Load Model**"
   ]
  },
  {
   "cell_type": "code",
   "execution_count": null,
   "metadata": {
    "executionInfo": {
     "elapsed": 5,
     "status": "ok",
     "timestamp": 1724818175211,
     "user": {
      "displayName": "Nabindra Shrestha",
      "userId": "01740359431384572488"
     },
     "user_tz": -345
    },
    "id": "gb0kvKDLJL87"
   },
   "outputs": [],
   "source": [
    "class LSTM(nn.Module):\n",
    "  def __init__(self, input_size, hidden_size, num_layers, drop_out=0.0):\n",
    "    super(LSTM, self).__init__()\n",
    "    self.lstm = nn.LSTM(input_size, hidden_size, num_layers, batch_first=True, dropout=drop_out)\n",
    "    self.fc = nn.Linear(hidden_size, 1)\n",
    "\n",
    "  def forward(self, x):\n",
    "    out, _ = self.lstm(x)\n",
    "    out = self.fc(out)\n",
    "    return out"
   ]
  },
  {
   "cell_type": "code",
   "execution_count": null,
   "metadata": {
    "colab": {
     "base_uri": "https://localhost:8080/"
    },
    "executionInfo": {
     "elapsed": 5,
     "status": "ok",
     "timestamp": 1724818175211,
     "user": {
      "displayName": "Nabindra Shrestha",
      "userId": "01740359431384572488"
     },
     "user_tz": -345
    },
    "id": "as2F8n5fIUeN",
    "outputId": "e0e3d4bf-0344-4f18-885b-c8c1a3a28330"
   },
   "outputs": [],
   "source": [
    "PATH = 'lstm_mip.pth'\n",
    "model = LSTM(input_size=3, hidden_size=75, num_layers=2, drop_out=0.0)\n",
    "model.load_state_dict(torch.load(PATH))\n",
    "model.eval()"
   ]
  },
  {
   "cell_type": "markdown",
   "metadata": {
    "id": "EWZ1UqmnFEsx"
   },
   "source": [
    "# MQTT callback functions"
   ]
  },
  {
   "cell_type": "code",
   "execution_count": null,
   "metadata": {
    "executionInfo": {
     "elapsed": 4,
     "status": "ok",
     "timestamp": 1724818175211,
     "user": {
      "displayName": "Nabindra Shrestha",
      "userId": "01740359431384572488"
     },
     "user_tz": -345
    },
    "id": "arPpkrZmFtEv"
   },
   "outputs": [],
   "source": [
    "weekday_encoding = {'Sunday': 1, 'Monday': 2, 'Tuesday': 3, 'Wednesday': 4, 'Thursday': 5, 'Friday': 6, 'Saturday': 7}\n",
    "\n",
    "def get_predicted_power(total_power):\n",
    "  timestamp = pd.Timestamp(datetime.datetime.now())\n",
    "  # add 5 hours and 45 minutes to get Nepal Time\n",
    "  timestamp=  timestamp + pd.Timedelta(hours=5, minutes=45)\n",
    "  # get hour and weekday from timestamp\n",
    "  Hour = timestamp.hour\n",
    "  Day = timestamp.day_name()\n",
    "  # Day = weekday_encoding[Day]\n",
    "\n",
    "  input_dict = {\"Hour\": [Hour], \"Day\": [Day], \"Total (W)\": [total_power]}\n",
    "  input_df = pd.DataFrame(input_dict)\n",
    "\n",
    "  new_df = pd.concat([original_df, input_df], ignore_index=True)\n",
    "  new_df['Day'] = new_df['Day'].replace(weekday_encoding)\n",
    "  columns_to_scale = ['Hour', 'Day', 'Total (W)']\n",
    "  scaler = MinMaxScaler(feature_range=(-1, 1))\n",
    "  new_df[columns_to_scale] = scaler.fit_transform(new_df[columns_to_scale])\n",
    "\n",
    "  last_row = new_df.iloc[-1]\n",
    "  last_row = last_row.values.reshape(1, -1)\n",
    "\n",
    "  last_row = last_row.reshape(-1, 1, 3)\n",
    "\n",
    "  input_tensor = torch.tensor(last_row, dtype=torch.float32)\n",
    "\n",
    "  with torch.no_grad():\n",
    "      output = model(input_tensor)\n",
    "      output = output.numpy()\n",
    "      predicted_total_power = [output[0][0][0]]\n",
    "      predicted_total_power = np.array(predicted_total_power)\n",
    "      predicted_total_power = np.expand_dims(predicted_total_power, axis=1)\n",
    "      predicted_total_power = np.repeat(predicted_total_power, 3, axis=1)\n",
    "      predicted_total_power = scaler.inverse_transform(predicted_total_power)\n",
    "      predicted_total_power = predicted_total_power[:, 2]\n",
    "      print(timestamp)\n",
    "\n",
    "\n",
    "  return predicted_total_power\n"
   ]
  },
  {
   "cell_type": "code",
   "execution_count": null,
   "metadata": {
    "executionInfo": {
     "elapsed": 510,
     "status": "ok",
     "timestamp": 1724818459668,
     "user": {
      "displayName": "Nabindra Shrestha",
      "userId": "01740359431384572488"
     },
     "user_tz": -345
    },
    "id": "t49JPMHPxuH_"
   },
   "outputs": [],
   "source": [
    "# Define the callback when the client receives a message\n",
    "def on_message(client, userdata, message):\n",
    "    Payload_str = message.payload.decode(\"utf-8\")\n",
    "    payload_dict = json.loads(Payload_str)\n",
    "\n",
    "    # get the active powers of all three phases\n",
    "    pa = float(payload_dict['Datas'][0][2])\n",
    "    pb = float(payload_dict['Datas'][1][2])\n",
    "    pc = float(payload_dict['Datas'][2][2])\n",
    "    total_power = int(pa+pb+pc)\n",
    "\n",
    "    predicted_power = int(get_predicted_power(total_power)[0])\n",
    "    print(f\"Total power now = {total_power} W,  Predicted total power newxt hour = {predicted_power} W\")\n"
   ]
  },
  {
   "cell_type": "code",
   "execution_count": null,
   "metadata": {
    "executionInfo": {
     "elapsed": 2,
     "status": "ok",
     "timestamp": 1724818460148,
     "user": {
      "displayName": "Nabindra Shrestha",
      "userId": "01740359431384572488"
     },
     "user_tz": -345
    },
    "id": "0FW_elopxw-T"
   },
   "outputs": [],
   "source": [
    "# Define the callback for when the client connects to the broker\n",
    "def on_connect(client, userdata, flags, rc, props=None):\n",
    "    if rc == 0:\n",
    "        print(\"Connected to broker\")\n",
    "        client.subscribe(Topic[BIOTECH])\n",
    "    else:\n",
    "        print(f\"Failed to connect with error code: {rc}\")\n"
   ]
  },
  {
   "cell_type": "markdown",
   "metadata": {
    "id": "bgKlQCQCDWZV"
   },
   "source": [
    "# Run the MQTT Loop"
   ]
  },
  {
   "cell_type": "code",
   "execution_count": null,
   "metadata": {
    "colab": {
     "base_uri": "https://localhost:8080/",
     "height": 408
    },
    "executionInfo": {
     "elapsed": 128368,
     "status": "error",
     "timestamp": 1724818588514,
     "user": {
      "displayName": "Nabindra Shrestha",
      "userId": "01740359431384572488"
     },
     "user_tz": -345
    },
    "id": "nxRmKsbGx1dj",
    "outputId": "9d125a39-1d05-4364-8138-384828722edf"
   },
   "outputs": [],
   "source": [
    "# Create MQTT client instance\n",
    "client = mqtt.Client(callback_api_version=mqtt.CallbackAPIVersion.VERSION2)\n",
    "\n",
    "# Set username and password for authentication\n",
    "client.username_pw_set(username, password)\n",
    "\n",
    "# Assign callback function to handle incoming messages\n",
    "client.on_message = on_message\n",
    "client.on_connect = on_connect\n",
    "\n",
    "# Connect to MQTT broker\n",
    "client.connect(broker_address, broker_port)\n",
    "\n",
    "# Loop to maintain MQTT connection and process incoming messages\n",
    "client.loop_forever()"
   ]
  },
  {
   "cell_type": "code",
   "execution_count": null,
   "metadata": {
    "executionInfo": {
     "elapsed": 2,
     "status": "aborted",
     "timestamp": 1724818588514,
     "user": {
      "displayName": "Nabindra Shrestha",
      "userId": "01740359431384572488"
     },
     "user_tz": -345
    },
    "id": "rtC4Kemdx5my"
   },
   "outputs": [],
   "source": []
  }
 ],
 "metadata": {
  "colab": {
   "authorship_tag": "ABX9TyNUgXLW7zCCX2w8kYeTwUqd",
   "provenance": [],
   "toc_visible": true
  },
  "kernelspec": {
   "display_name": "Python (aigridenv)",
   "language": "python",
   "name": "aigridenv"
  },
  "language_info": {
   "codemirror_mode": {
    "name": "ipython",
    "version": 3
   },
   "file_extension": ".py",
   "mimetype": "text/x-python",
   "name": "python",
   "nbconvert_exporter": "python",
   "pygments_lexer": "ipython3",
   "version": "3.12.1"
  }
 },
 "nbformat": 4,
 "nbformat_minor": 4
}
